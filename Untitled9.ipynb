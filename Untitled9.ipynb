{
 "cells": [
  {
   "cell_type": "code",
   "execution_count": 5,
   "id": "6cb351ec",
   "metadata": {},
   "outputs": [
    {
     "name": "stdout",
     "output_type": "stream",
     "text": [
      "All Files done\n"
     ]
    }
   ],
   "source": [
    "import pandas as pd\n",
    "import os\n",
    "import sys\n",
    "from docxtpl import DocxTemplate\n",
    "\n",
    "\n",
    "#Enter the complete filepath to the Word Template\n",
    "fname2=r\"C:\\Users\\shubham aggarwal\\Downloads\\appointment-letter-format_1.docx\"\n",
    "\n",
    "\n",
    "#Enter the folder path to where you want to save the final word  files\n",
    "os.chdir(r\"C:\\Users\\shubham aggarwal\\OneDrive\\Desktop\\sci hub folder\")\n",
    "\n",
    "\n",
    "#Enter the complete filepath to the excel file which has the data\n",
    "df=pd.read_excel(r\"C:\\Users\\shubham aggarwal\\Downloads\\Base Data_Candidates.xlsx\")\n",
    "\n",
    "Date=df[\"Date\"].values\n",
    "Candidate_Name=df[\"Candidate_Name\"].values\n",
    "Address_Line1=df[\"Address_Line1\"].values\n",
    "Address_Line2=df[\"Address_Line2\"].values\n",
    "City=df[\"City\"].values\n",
    "State=df[\"State\"].values\n",
    "Salut=df[\"Salut\"].values\n",
    "Designation=df[\"Designation\"].values\n",
    "Company_name=df[\"Company_name\"].values\n",
    "Joining_Date=df[\"Joining_Date\"].values\n",
    "Posting=df[\"Posting\"].values\n",
    "Supervisor_Name=df[\"Supervisor_Name\"].values\n",
    "\n",
    "\n",
    "zipped=zip(Date,Candidate_Name,Address_Line1,Address_Line2,City,State,Salut,Designation,Company_name,Joining_Date,Posting,Supervisor_Name)\n",
    "\n",
    "for a,b,c,d,e,f,g,h,i,j,k,l in zipped:\n",
    "\n",
    "\n",
    "    doc=DocxTemplate(fname2)\n",
    "\n",
    "    context={\"Date\":a,\"Candidate_Name\":b,\"Address_Line1\":c,\"Address_Line2\":d,\"City\":e,\"State\":f,\"Salut\":g,\"Designation\":h,\"Company name\":i,\"Joining_Date\":j,\"Posting\":k,\"Supervisor_Name\":l}\n",
    "\n",
    "    doc.render(context)\n",
    "    doc.save('{}.docx'.format(b))\n",
    "    \n",
    "print(\"All Files done\")"
   ]
  },
  {
   "cell_type": "code",
   "execution_count": 3,
   "id": "e810d2a4",
   "metadata": {},
   "outputs": [
    {
     "name": "stdout",
     "output_type": "stream",
     "text": [
      "Collecting docxtpl\n",
      "  Downloading docxtpl-0.15.2-py2.py3-none-any.whl (27 kB)\n",
      "Requirement already satisfied: six in c:\\programdata\\anaconda3\\lib\\site-packages (from docxtpl) (1.16.0)\n",
      "Requirement already satisfied: lxml in c:\\programdata\\anaconda3\\lib\\site-packages (from docxtpl) (4.6.3)\n",
      "Collecting docxcompose\n",
      "  Downloading docxcompose-1.3.4.tar.gz (17 kB)\n",
      "Requirement already satisfied: jinja2 in c:\\programdata\\anaconda3\\lib\\site-packages (from docxtpl) (2.11.3)\n",
      "Collecting python-docx\n",
      "  Downloading python-docx-0.8.11.tar.gz (5.6 MB)\n",
      "Requirement already satisfied: setuptools in c:\\programdata\\anaconda3\\lib\\site-packages (from docxcompose->docxtpl) (58.0.4)\n",
      "Requirement already satisfied: MarkupSafe>=0.23 in c:\\programdata\\anaconda3\\lib\\site-packages (from jinja2->docxtpl) (1.1.1)\n",
      "Building wheels for collected packages: docxcompose, python-docx\n",
      "  Building wheel for docxcompose (setup.py): started\n",
      "  Building wheel for docxcompose (setup.py): finished with status 'done'\n",
      "  Created wheel for docxcompose: filename=docxcompose-1.3.4-py3-none-any.whl size=20907 sha256=5602fcc86e1fe77bd8aaad93e59b3c39c22124fada55b5474f9e480d26b59f33\n",
      "  Stored in directory: c:\\users\\shubham aggarwal\\appdata\\local\\pip\\cache\\wheels\\a2\\57\\93\\ca95956ef31f7a8c7404f55a0ac4376ca81a5029143114defc\n",
      "  Building wheel for python-docx (setup.py): started\n",
      "  Building wheel for python-docx (setup.py): finished with status 'done'\n",
      "  Created wheel for python-docx: filename=python_docx-0.8.11-py3-none-any.whl size=184508 sha256=e9bf1666cb639cbd8344fa90cd69e321251ec8243c46016b0ae2cc99c59abce2\n",
      "  Stored in directory: c:\\users\\shubham aggarwal\\appdata\\local\\pip\\cache\\wheels\\83\\8b\\7c\\09ae60c42c7ba4ed2dddaf2b8b9186cb105255856d6ed3dba5\n",
      "Successfully built docxcompose python-docx\n",
      "Installing collected packages: python-docx, docxcompose, docxtpl\n",
      "Successfully installed docxcompose-1.3.4 docxtpl-0.15.2 python-docx-0.8.11\n"
     ]
    },
    {
     "name": "stderr",
     "output_type": "stream",
     "text": [
      "WARNING: Ignoring invalid distribution -cikit-learn (c:\\programdata\\anaconda3\\lib\\site-packages)\n",
      "WARNING: Ignoring invalid distribution -cikit-learn (c:\\programdata\\anaconda3\\lib\\site-packages)\n",
      "WARNING: Ignoring invalid distribution -cikit-learn (c:\\programdata\\anaconda3\\lib\\site-packages)\n",
      "WARNING: Ignoring invalid distribution -cikit-learn (c:\\programdata\\anaconda3\\lib\\site-packages)\n",
      "WARNING: Ignoring invalid distribution -cikit-learn (c:\\programdata\\anaconda3\\lib\\site-packages)\n",
      "WARNING: Ignoring invalid distribution -cikit-learn (c:\\programdata\\anaconda3\\lib\\site-packages)\n",
      "WARNING: Ignoring invalid distribution -cikit-learn (c:\\programdata\\anaconda3\\lib\\site-packages)\n",
      "WARNING: Ignoring invalid distribution -cikit-learn (c:\\programdata\\anaconda3\\lib\\site-packages)\n",
      "WARNING: Ignoring invalid distribution -cikit-learn (c:\\programdata\\anaconda3\\lib\\site-packages)\n"
     ]
    }
   ],
   "source": [
    "!pip install docxtpl"
   ]
  },
  {
   "cell_type": "code",
   "execution_count": null,
   "id": "48170f3b",
   "metadata": {},
   "outputs": [],
   "source": []
  }
 ],
 "metadata": {
  "kernelspec": {
   "display_name": "Python 3 (ipykernel)",
   "language": "python",
   "name": "python3"
  },
  "language_info": {
   "codemirror_mode": {
    "name": "ipython",
    "version": 3
   },
   "file_extension": ".py",
   "mimetype": "text/x-python",
   "name": "python",
   "nbconvert_exporter": "python",
   "pygments_lexer": "ipython3",
   "version": "3.9.7"
  }
 },
 "nbformat": 4,
 "nbformat_minor": 5
}
