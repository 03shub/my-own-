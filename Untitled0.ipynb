{
  "nbformat": 4,
  "nbformat_minor": 0,
  "metadata": {
    "colab": {
      "name": "Untitled0.ipynb",
      "provenance": []
    },
    "kernelspec": {
      "name": "python3",
      "display_name": "Python 3"
    },
    "language_info": {
      "name": "python"
    }
  },
  "cells": [
    {
      "cell_type": "code",
      "source": [
        "import pandas as pd\n",
        "import numpy as np\n",
        "import matplotlib.pyplot as plt\n",
        "import seaborn as sns\n",
        "\n"
      ],
      "metadata": {
        "id": "lo4iQtkiKA8A"
      },
      "execution_count": 48,
      "outputs": []
    },
    {
      "cell_type": "code",
      "source": [
        ""
      ],
      "metadata": {
        "id": "I8RYf1jOKBVV"
      },
      "execution_count": null,
      "outputs": []
    },
    {
      "cell_type": "code",
      "source": [
        "from google.colab import drive\n",
        "drive.mount('/content/drive')"
      ],
      "metadata": {
        "colab": {
          "base_uri": "https://localhost:8080/"
        },
        "id": "NZVnKt4rfguT",
        "outputId": "e198797b-e300-4e2e-f065-2d29522fea54"
      },
      "execution_count": 1,
      "outputs": [
        {
          "output_type": "stream",
          "name": "stdout",
          "text": [
            "Mounted at /content/drive\n"
          ]
        }
      ]
    },
    {
      "cell_type": "code",
      "source": [
        "df =pd.read_excel(\"/content/drive/MyDrive/ploting/Global Payments.XLSX\")"
      ],
      "metadata": {
        "id": "NsV9dzk6KD0j"
      },
      "execution_count": 49,
      "outputs": []
    },
    {
      "cell_type": "code",
      "source": [
        "df"
      ],
      "metadata": {
        "colab": {
          "base_uri": "https://localhost:8080/",
          "height": 884
        },
        "id": "gJQUiGCWL8PJ",
        "outputId": "fbaceae8-aafe-4d35-af4d-24d765e141c6"
      },
      "execution_count": 50,
      "outputs": [
        {
          "output_type": "execute_result",
          "data": {
            "text/plain": [
              "    Publication Number                   Country  Application Date  \\\n",
              "0         US11244681B1  United States Of America              2021   \n",
              "1      US20210375484A1  United States Of America              2021   \n",
              "2      US20210358269A1  United States Of America              2021   \n",
              "3         US11145152B2  United States Of America              2019   \n",
              "4      US20210110652A1  United States Of America              2020   \n",
              "..                 ...                       ...               ...   \n",
              "195      ZA200607832P0              South Africa              2006   \n",
              "196      ZA200607873P0              South Africa              2006   \n",
              "197      ZA200702437P0              South Africa              2007   \n",
              "198      ZA200802091P0              South Africa              2008   \n",
              "199      ZA200806225P0              South Africa              2008   \n",
              "\n",
              "    Publication Date Presumed Earliest Priority Date  \\\n",
              "0               2022                      2020-07-31   \n",
              "1               2021                      2020-05-28   \n",
              "2               2021                      2020-05-13   \n",
              "3               2021                      2018-03-09   \n",
              "4               2021                      2019-10-11   \n",
              "..               ...                             ...   \n",
              "195                -                      2006-09-19   \n",
              "196                -                      2006-09-20   \n",
              "197                -                      2007-03-23   \n",
              "198                -                      2008-03-05   \n",
              "199                -                      2008-07-17   \n",
              "\n",
              "                                                   CPC Simple Legal Status  \\\n",
              "0    G10L15/22 | G06K9/00624 | G06Q30/0635 | G06Q50...              Active   \n",
              "1                     G16H50/80 | H04W4/80 | H04W4/029              Active   \n",
              "2    G07F17/3283 | H04W4/80 | H04W4/21 | G07F17/322...              Active   \n",
              "3    G07D11/13 | G07F19/203 | G07F19/205 | G07D2211...              Active   \n",
              "4    G07F17/3248 | G07F17/3255 | G06Q20/18 | G07F17...              Active   \n",
              "..                                                 ...                 ...   \n",
              "195                                                  -            Inactive   \n",
              "196                                                  -            Inactive   \n",
              "197                                                  -            Inactive   \n",
              "198                                                  -            Inactive   \n",
              "199                                                  -            Inactive   \n",
              "\n",
              "       Grant Status  Litigation Case Count  Count of Cited by Patents  \\\n",
              "0    Granted Patent                      0                          0   \n",
              "1       Application                      0                          0   \n",
              "2       Application                      0                          0   \n",
              "3    Granted Patent                      0                          0   \n",
              "4       Application                      0                          0   \n",
              "..              ...                    ...                        ...   \n",
              "195     Application                      0                          0   \n",
              "196     Application                      0                          0   \n",
              "197     Application                      0                          0   \n",
              "198     Application                      0                          0   \n",
              "199     Application                      0                          0   \n",
              "\n",
              "     INPADOC Family ID          Priority Country  Priority  \n",
              "0            476845302  United States Of America         1  \n",
              "1            478707345  United States Of America         1  \n",
              "2            478512778  United States Of America         1  \n",
              "3            467843438  United States Of America         1  \n",
              "4            475383296  United States Of America         1  \n",
              "..                 ...                       ...       ...  \n",
              "195          439200931              South Africa         9  \n",
              "196          439052765              South Africa         9  \n",
              "197          439512816              South Africa         9  \n",
              "198          440718724              South Africa         9  \n",
              "199          440873530              South Africa         9  \n",
              "\n",
              "[200 rows x 13 columns]"
            ],
            "text/html": [
              "\n",
              "  <div id=\"df-4373521a-6f0f-4936-b741-1fccecb9e6f7\">\n",
              "    <div class=\"colab-df-container\">\n",
              "      <div>\n",
              "<style scoped>\n",
              "    .dataframe tbody tr th:only-of-type {\n",
              "        vertical-align: middle;\n",
              "    }\n",
              "\n",
              "    .dataframe tbody tr th {\n",
              "        vertical-align: top;\n",
              "    }\n",
              "\n",
              "    .dataframe thead th {\n",
              "        text-align: right;\n",
              "    }\n",
              "</style>\n",
              "<table border=\"1\" class=\"dataframe\">\n",
              "  <thead>\n",
              "    <tr style=\"text-align: right;\">\n",
              "      <th></th>\n",
              "      <th>Publication Number</th>\n",
              "      <th>Country</th>\n",
              "      <th>Application Date</th>\n",
              "      <th>Publication Date</th>\n",
              "      <th>Presumed Earliest Priority Date</th>\n",
              "      <th>CPC</th>\n",
              "      <th>Simple Legal Status</th>\n",
              "      <th>Grant Status</th>\n",
              "      <th>Litigation Case Count</th>\n",
              "      <th>Count of Cited by Patents</th>\n",
              "      <th>INPADOC Family ID</th>\n",
              "      <th>Priority Country</th>\n",
              "      <th>Priority</th>\n",
              "    </tr>\n",
              "  </thead>\n",
              "  <tbody>\n",
              "    <tr>\n",
              "      <th>0</th>\n",
              "      <td>US11244681B1</td>\n",
              "      <td>United States Of America</td>\n",
              "      <td>2021</td>\n",
              "      <td>2022</td>\n",
              "      <td>2020-07-31</td>\n",
              "      <td>G10L15/22 | G06K9/00624 | G06Q30/0635 | G06Q50...</td>\n",
              "      <td>Active</td>\n",
              "      <td>Granted Patent</td>\n",
              "      <td>0</td>\n",
              "      <td>0</td>\n",
              "      <td>476845302</td>\n",
              "      <td>United States Of America</td>\n",
              "      <td>1</td>\n",
              "    </tr>\n",
              "    <tr>\n",
              "      <th>1</th>\n",
              "      <td>US20210375484A1</td>\n",
              "      <td>United States Of America</td>\n",
              "      <td>2021</td>\n",
              "      <td>2021</td>\n",
              "      <td>2020-05-28</td>\n",
              "      <td>G16H50/80 | H04W4/80 | H04W4/029</td>\n",
              "      <td>Active</td>\n",
              "      <td>Application</td>\n",
              "      <td>0</td>\n",
              "      <td>0</td>\n",
              "      <td>478707345</td>\n",
              "      <td>United States Of America</td>\n",
              "      <td>1</td>\n",
              "    </tr>\n",
              "    <tr>\n",
              "      <th>2</th>\n",
              "      <td>US20210358269A1</td>\n",
              "      <td>United States Of America</td>\n",
              "      <td>2021</td>\n",
              "      <td>2021</td>\n",
              "      <td>2020-05-13</td>\n",
              "      <td>G07F17/3283 | H04W4/80 | H04W4/21 | G07F17/322...</td>\n",
              "      <td>Active</td>\n",
              "      <td>Application</td>\n",
              "      <td>0</td>\n",
              "      <td>0</td>\n",
              "      <td>478512778</td>\n",
              "      <td>United States Of America</td>\n",
              "      <td>1</td>\n",
              "    </tr>\n",
              "    <tr>\n",
              "      <th>3</th>\n",
              "      <td>US11145152B2</td>\n",
              "      <td>United States Of America</td>\n",
              "      <td>2019</td>\n",
              "      <td>2021</td>\n",
              "      <td>2018-03-09</td>\n",
              "      <td>G07D11/13 | G07F19/203 | G07F19/205 | G07D2211...</td>\n",
              "      <td>Active</td>\n",
              "      <td>Granted Patent</td>\n",
              "      <td>0</td>\n",
              "      <td>0</td>\n",
              "      <td>467843438</td>\n",
              "      <td>United States Of America</td>\n",
              "      <td>1</td>\n",
              "    </tr>\n",
              "    <tr>\n",
              "      <th>4</th>\n",
              "      <td>US20210110652A1</td>\n",
              "      <td>United States Of America</td>\n",
              "      <td>2020</td>\n",
              "      <td>2021</td>\n",
              "      <td>2019-10-11</td>\n",
              "      <td>G07F17/3248 | G07F17/3255 | G06Q20/18 | G07F17...</td>\n",
              "      <td>Active</td>\n",
              "      <td>Application</td>\n",
              "      <td>0</td>\n",
              "      <td>0</td>\n",
              "      <td>475383296</td>\n",
              "      <td>United States Of America</td>\n",
              "      <td>1</td>\n",
              "    </tr>\n",
              "    <tr>\n",
              "      <th>...</th>\n",
              "      <td>...</td>\n",
              "      <td>...</td>\n",
              "      <td>...</td>\n",
              "      <td>...</td>\n",
              "      <td>...</td>\n",
              "      <td>...</td>\n",
              "      <td>...</td>\n",
              "      <td>...</td>\n",
              "      <td>...</td>\n",
              "      <td>...</td>\n",
              "      <td>...</td>\n",
              "      <td>...</td>\n",
              "      <td>...</td>\n",
              "    </tr>\n",
              "    <tr>\n",
              "      <th>195</th>\n",
              "      <td>ZA200607832P0</td>\n",
              "      <td>South Africa</td>\n",
              "      <td>2006</td>\n",
              "      <td>-</td>\n",
              "      <td>2006-09-19</td>\n",
              "      <td>-</td>\n",
              "      <td>Inactive</td>\n",
              "      <td>Application</td>\n",
              "      <td>0</td>\n",
              "      <td>0</td>\n",
              "      <td>439200931</td>\n",
              "      <td>South Africa</td>\n",
              "      <td>9</td>\n",
              "    </tr>\n",
              "    <tr>\n",
              "      <th>196</th>\n",
              "      <td>ZA200607873P0</td>\n",
              "      <td>South Africa</td>\n",
              "      <td>2006</td>\n",
              "      <td>-</td>\n",
              "      <td>2006-09-20</td>\n",
              "      <td>-</td>\n",
              "      <td>Inactive</td>\n",
              "      <td>Application</td>\n",
              "      <td>0</td>\n",
              "      <td>0</td>\n",
              "      <td>439052765</td>\n",
              "      <td>South Africa</td>\n",
              "      <td>9</td>\n",
              "    </tr>\n",
              "    <tr>\n",
              "      <th>197</th>\n",
              "      <td>ZA200702437P0</td>\n",
              "      <td>South Africa</td>\n",
              "      <td>2007</td>\n",
              "      <td>-</td>\n",
              "      <td>2007-03-23</td>\n",
              "      <td>-</td>\n",
              "      <td>Inactive</td>\n",
              "      <td>Application</td>\n",
              "      <td>0</td>\n",
              "      <td>0</td>\n",
              "      <td>439512816</td>\n",
              "      <td>South Africa</td>\n",
              "      <td>9</td>\n",
              "    </tr>\n",
              "    <tr>\n",
              "      <th>198</th>\n",
              "      <td>ZA200802091P0</td>\n",
              "      <td>South Africa</td>\n",
              "      <td>2008</td>\n",
              "      <td>-</td>\n",
              "      <td>2008-03-05</td>\n",
              "      <td>-</td>\n",
              "      <td>Inactive</td>\n",
              "      <td>Application</td>\n",
              "      <td>0</td>\n",
              "      <td>0</td>\n",
              "      <td>440718724</td>\n",
              "      <td>South Africa</td>\n",
              "      <td>9</td>\n",
              "    </tr>\n",
              "    <tr>\n",
              "      <th>199</th>\n",
              "      <td>ZA200806225P0</td>\n",
              "      <td>South Africa</td>\n",
              "      <td>2008</td>\n",
              "      <td>-</td>\n",
              "      <td>2008-07-17</td>\n",
              "      <td>-</td>\n",
              "      <td>Inactive</td>\n",
              "      <td>Application</td>\n",
              "      <td>0</td>\n",
              "      <td>0</td>\n",
              "      <td>440873530</td>\n",
              "      <td>South Africa</td>\n",
              "      <td>9</td>\n",
              "    </tr>\n",
              "  </tbody>\n",
              "</table>\n",
              "<p>200 rows × 13 columns</p>\n",
              "</div>\n",
              "      <button class=\"colab-df-convert\" onclick=\"convertToInteractive('df-4373521a-6f0f-4936-b741-1fccecb9e6f7')\"\n",
              "              title=\"Convert this dataframe to an interactive table.\"\n",
              "              style=\"display:none;\">\n",
              "        \n",
              "  <svg xmlns=\"http://www.w3.org/2000/svg\" height=\"24px\"viewBox=\"0 0 24 24\"\n",
              "       width=\"24px\">\n",
              "    <path d=\"M0 0h24v24H0V0z\" fill=\"none\"/>\n",
              "    <path d=\"M18.56 5.44l.94 2.06.94-2.06 2.06-.94-2.06-.94-.94-2.06-.94 2.06-2.06.94zm-11 1L8.5 8.5l.94-2.06 2.06-.94-2.06-.94L8.5 2.5l-.94 2.06-2.06.94zm10 10l.94 2.06.94-2.06 2.06-.94-2.06-.94-.94-2.06-.94 2.06-2.06.94z\"/><path d=\"M17.41 7.96l-1.37-1.37c-.4-.4-.92-.59-1.43-.59-.52 0-1.04.2-1.43.59L10.3 9.45l-7.72 7.72c-.78.78-.78 2.05 0 2.83L4 21.41c.39.39.9.59 1.41.59.51 0 1.02-.2 1.41-.59l7.78-7.78 2.81-2.81c.8-.78.8-2.07 0-2.86zM5.41 20L4 18.59l7.72-7.72 1.47 1.35L5.41 20z\"/>\n",
              "  </svg>\n",
              "      </button>\n",
              "      \n",
              "  <style>\n",
              "    .colab-df-container {\n",
              "      display:flex;\n",
              "      flex-wrap:wrap;\n",
              "      gap: 12px;\n",
              "    }\n",
              "\n",
              "    .colab-df-convert {\n",
              "      background-color: #E8F0FE;\n",
              "      border: none;\n",
              "      border-radius: 50%;\n",
              "      cursor: pointer;\n",
              "      display: none;\n",
              "      fill: #1967D2;\n",
              "      height: 32px;\n",
              "      padding: 0 0 0 0;\n",
              "      width: 32px;\n",
              "    }\n",
              "\n",
              "    .colab-df-convert:hover {\n",
              "      background-color: #E2EBFA;\n",
              "      box-shadow: 0px 1px 2px rgba(60, 64, 67, 0.3), 0px 1px 3px 1px rgba(60, 64, 67, 0.15);\n",
              "      fill: #174EA6;\n",
              "    }\n",
              "\n",
              "    [theme=dark] .colab-df-convert {\n",
              "      background-color: #3B4455;\n",
              "      fill: #D2E3FC;\n",
              "    }\n",
              "\n",
              "    [theme=dark] .colab-df-convert:hover {\n",
              "      background-color: #434B5C;\n",
              "      box-shadow: 0px 1px 3px 1px rgba(0, 0, 0, 0.15);\n",
              "      filter: drop-shadow(0px 1px 2px rgba(0, 0, 0, 0.3));\n",
              "      fill: #FFFFFF;\n",
              "    }\n",
              "  </style>\n",
              "\n",
              "      <script>\n",
              "        const buttonEl =\n",
              "          document.querySelector('#df-4373521a-6f0f-4936-b741-1fccecb9e6f7 button.colab-df-convert');\n",
              "        buttonEl.style.display =\n",
              "          google.colab.kernel.accessAllowed ? 'block' : 'none';\n",
              "\n",
              "        async function convertToInteractive(key) {\n",
              "          const element = document.querySelector('#df-4373521a-6f0f-4936-b741-1fccecb9e6f7');\n",
              "          const dataTable =\n",
              "            await google.colab.kernel.invokeFunction('convertToInteractive',\n",
              "                                                     [key], {});\n",
              "          if (!dataTable) return;\n",
              "\n",
              "          const docLinkHtml = 'Like what you see? Visit the ' +\n",
              "            '<a target=\"_blank\" href=https://colab.research.google.com/notebooks/data_table.ipynb>data table notebook</a>'\n",
              "            + ' to learn more about interactive tables.';\n",
              "          element.innerHTML = '';\n",
              "          dataTable['output_type'] = 'display_data';\n",
              "          await google.colab.output.renderOutput(dataTable, element);\n",
              "          const docLink = document.createElement('div');\n",
              "          docLink.innerHTML = docLinkHtml;\n",
              "          element.appendChild(docLink);\n",
              "        }\n",
              "      </script>\n",
              "    </div>\n",
              "  </div>\n",
              "  "
            ]
          },
          "metadata": {},
          "execution_count": 50
        }
      ]
    },
    {
      "cell_type": "code",
      "source": [
        "df.shape"
      ],
      "metadata": {
        "id": "6DCyYuFUTz6z",
        "colab": {
          "base_uri": "https://localhost:8080/"
        },
        "outputId": "f33d0f06-9cfc-4617-9e10-1168604c154a"
      },
      "execution_count": 51,
      "outputs": [
        {
          "output_type": "execute_result",
          "data": {
            "text/plain": [
              "(200, 13)"
            ]
          },
          "metadata": {},
          "execution_count": 51
        }
      ]
    },
    {
      "cell_type": "code",
      "source": [
        "df.columns"
      ],
      "metadata": {
        "colab": {
          "base_uri": "https://localhost:8080/"
        },
        "id": "PGsqEBaxgZRz",
        "outputId": "d16703e6-5ce2-4630-e0db-bf1c2a1d8ec8"
      },
      "execution_count": 52,
      "outputs": [
        {
          "output_type": "execute_result",
          "data": {
            "text/plain": [
              "Index(['Publication Number', 'Country', 'Application Date', 'Publication Date',\n",
              "       'Presumed Earliest Priority Date', 'CPC', 'Simple Legal Status',\n",
              "       'Grant Status', 'Litigation Case Count', 'Count of Cited by Patents',\n",
              "       'INPADOC Family ID', 'Priority Country', 'Priority'],\n",
              "      dtype='object')"
            ]
          },
          "metadata": {},
          "execution_count": 52
        }
      ]
    },
    {
      "cell_type": "code",
      "source": [
        "df.dtypes"
      ],
      "metadata": {
        "colab": {
          "base_uri": "https://localhost:8080/"
        },
        "id": "-TOFMlCsgbW3",
        "outputId": "384bc550-1de3-4644-e8da-8a4e04a26058"
      },
      "execution_count": 53,
      "outputs": [
        {
          "output_type": "execute_result",
          "data": {
            "text/plain": [
              "Publication Number                 object\n",
              "Country                            object\n",
              "Application Date                    int64\n",
              "Publication Date                   object\n",
              "Presumed Earliest Priority Date    object\n",
              "CPC                                object\n",
              "Simple Legal Status                object\n",
              "Grant Status                       object\n",
              "Litigation Case Count               int64\n",
              "Count of Cited by Patents           int64\n",
              "INPADOC Family ID                   int64\n",
              "Priority Country                   object\n",
              "Priority                            int64\n",
              "dtype: object"
            ]
          },
          "metadata": {},
          "execution_count": 53
        }
      ]
    },
    {
      "cell_type": "code",
      "source": [
        "plt.figure(figsize=(10,10))\n",
        "sns.countplot(y=\"Priority Country\", data=df,color='blue')\n",
        "#sns.countplot(df['Country'],data=df)\n",
        "plt.title('name of the graph ')\n",
        "plt.ylabel('y - axis')\n",
        "plt.xlabel('x - axis')\n",
        "plt.xticks(fontsize=14,)\n",
        "plt.yticks(fontsize=14,)\n",
        "plt.show()\n",
        "\n"
      ],
      "metadata": {
        "colab": {
          "base_uri": "https://localhost:8080/",
          "height": 631
        },
        "id": "I04IZqekgrD8",
        "outputId": "2e444412-29cc-4fd9-ff9c-14a343ffa321"
      },
      "execution_count": 163,
      "outputs": [
        {
          "output_type": "display_data",
          "data": {
            "text/plain": [
              "<Figure size 720x720 with 1 Axes>"
            ],
            "image/png": "[encoded data removed]"
          },
          "metadata": {}
        }
      ]
    },
    {
      "cell_type": "code",
      "source": [
        "df[['Application Date','Grant Status']]"
      ],
      "metadata": {
        "colab": {
          "base_uri": "https://localhost:8080/"
        },
        "id": "KakYWRCRhBSm",
        "outputId": "fd396c27-1980-4309-d508-8cd7379e5145"
      },
      "execution_count": 123,
      "outputs": [
        {
          "output_type": "execute_result",
          "data": {
            "text/plain": [
              "Application Date                                               401791\n",
              "Grant Status        Granted PatentApplicationApplicationGranted Pa...\n",
              "dtype: object"
            ]
          },
          "metadata": {},
          "execution_count": 123
        }
      ]
    },
    {
      "cell_type": "code",
      "source": [
        "plt.figure(figsize=(20,20))\n",
        "sns.countplot(y=\"Application Date\", data=df,palette=\"Set2\")\n",
        "#sns.countplot(df['Application Date'],data=df)\n",
        "sns.set_theme(style=\"white\")\n"
      ],
      "metadata": {
        "colab": {
          "base_uri": "https://localhost:8080/",
          "height": 1000
        },
        "id": "PIsgfa_vjaCr",
        "outputId": "fde8016b-1b74-419c-c8c8-b1291775df45"
      },
      "execution_count": 141,
      "outputs": [
        {
          "output_type": "display_data",
          "data": {
            "text/plain": [
              "<Figure size 1440x1440 with 1 Axes>"
            ],
            "image/png": "[encoded data removed]"
          },
          "metadata": {}
        }
      ]
    },
    {
      "cell_type": "code",
      "source": [
        ""
      ],
      "metadata": {
        "id": "VTnWk4PlkuzS"
      },
      "execution_count": 47,
      "outputs": []
    },
    {
      "cell_type": "code",
      "source": [
        ""
      ],
      "metadata": {
        "colab": {
          "base_uri": "https://localhost:8080/"
        },
        "id": "3ijm-JElmagP",
        "outputId": "18183ba0-a366-49d0-8707-63351999fedf"
      },
      "execution_count": 37,
      "outputs": [
        {
          "output_type": "execute_result",
          "data": {
            "text/plain": [
              "Publication Number                 0\n",
              "Country                            0\n",
              "Application Date                   0\n",
              "Publication Date                   0\n",
              "Presumed Earliest Priority Date    0\n",
              "CPC                                0\n",
              "Simple Legal Status                0\n",
              "Grant Status                       0\n",
              "Litigation Case Count              0\n",
              "Count of Cited by Patents          0\n",
              "INPADOC Family ID                  0\n",
              "Priority Country                   0\n",
              "Priority                           0\n",
              "dtype: int64"
            ]
          },
          "metadata": {},
          "execution_count": 37
        }
      ]
    },
    {
      "cell_type": "code",
      "source": [
        "df['Simple Legal Status'].replace({'Active':0,'Inactive':1},inplace=True)"
      ],
      "metadata": {
        "id": "qouzvxgAmn1P"
      },
      "execution_count": 79,
      "outputs": []
    },
    {
      "cell_type": "code",
      "source": [
        "#zero = df['Simple Legal Status'].value_counts()[1:2]"
      ],
      "metadata": {
        "id": "OQDm0jXAnfIR"
      },
      "execution_count": 85,
      "outputs": []
    },
    {
      "cell_type": "code",
      "source": [
        "#sns.countplot(df['Gender'],data=df,hue=\"Loan_Status\")\n",
        "#one = df['Simple Legal Status'].value_counts()[:1]"
      ],
      "metadata": {
        "id": "bwGJnJXAojaH"
      },
      "execution_count": 87,
      "outputs": []
    },
    {
      "cell_type": "code",
      "source": [
        "df.dtypes"
      ],
      "metadata": {
        "colab": {
          "base_uri": "https://localhost:8080/"
        },
        "id": "1fm89gR4pmfS",
        "outputId": "f72f7bd7-e4f4-4df1-d66a-c7202bfcf73c"
      },
      "execution_count": 77,
      "outputs": [
        {
          "output_type": "execute_result",
          "data": {
            "text/plain": [
              "Publication Number                 object\n",
              "Country                            object\n",
              "Application Date                    int64\n",
              "Publication Date                   object\n",
              "Presumed Earliest Priority Date    object\n",
              "CPC                                object\n",
              "Simple Legal Status                 int64\n",
              "Grant Status                       object\n",
              "Litigation Case Count               int64\n",
              "Count of Cited by Patents           int64\n",
              "INPADOC Family ID                   int64\n",
              "Priority Country                   object\n",
              "Priority                            int64\n",
              "LS                                 object\n",
              "dtype: object"
            ]
          },
          "metadata": {},
          "execution_count": 77
        }
      ]
    },
    {
      "cell_type": "code",
      "source": [
        "sns.countplot(y=\"Grant Status\", data=df,palette=\"Set2\")"
      ],
      "metadata": {
        "colab": {
          "base_uri": "https://localhost:8080/",
          "height": 519
        },
        "id": "2boagn5otX2f",
        "outputId": "cac9d83e-ce92-41f4-875e-11134360331e"
      },
      "execution_count": 161,
      "outputs": [
        {
          "output_type": "execute_result",
          "data": {
            "text/plain": [
              "<matplotlib.axes._subplots.AxesSubplot at 0x7f2b42e57a90>"
            ]
          },
          "metadata": {},
          "execution_count": 161
        },
        {
          "output_type": "display_data",
          "data": {
            "text/plain": [
              "<Figure size 576x576 with 1 Axes>"
            ],
            "image/png": "[encoded data removed]"
          },
          "metadata": {}
        }
      ]
    },
    {
      "cell_type": "code",
      "source": [
        "#dr = pd.pivot_table(df,index=df['Application Date'],columns=df['Grant Status'],aggfunc=sum)"
      ],
      "metadata": {
        "id": "3HpQ2Vr2t_99"
      },
      "execution_count": 98,
      "outputs": []
    },
    {
      "cell_type": "code",
      "source": [
        "#dr.dtypes"
      ],
      "metadata": {
        "colab": {
          "base_uri": "https://localhost:8080/"
        },
        "id": "PBMQGptJyLYE",
        "outputId": "ddef84ae-59d5-47b8-b9b1-b2b62863a1e0"
      },
      "execution_count": 103,
      "outputs": [
        {
          "output_type": "execute_result",
          "data": {
            "text/plain": [
              "                           Grant Status  \n",
              "Count of Cited by Patents  Application       float64\n",
              "                           Granted Patent    float64\n",
              "INPADOC Family ID          Application       float64\n",
              "                           Granted Patent    float64\n",
              "Litigation Case Count      Application       float64\n",
              "                           Granted Patent    float64\n",
              "Priority                   Application       float64\n",
              "                           Granted Patent    float64\n",
              "Simple Legal Status        Application       float64\n",
              "                           Granted Patent    float64\n",
              "dtype: object"
            ]
          },
          "metadata": {},
          "execution_count": 103
        }
      ]
    },
    {
      "cell_type": "code",
      "source": [
        "plt.rcParams[\"figure.figsize\"]=(8,8)\n",
        "df.groupby(['Grant Status']).sum().plot(kind='pie',y='Application Date',autopct=\"%.f%%\",explode=[0.1,0])"
      ],
      "metadata": {
        "colab": {
          "base_uri": "https://localhost:8080/",
          "height": 483
        },
        "id": "CX99JQbTyyzx",
        "outputId": "a69ea00c-6d10-46e7-df30-52cedca9560d"
      },
      "execution_count": 126,
      "outputs": [
        {
          "output_type": "execute_result",
          "data": {
            "text/plain": [
              "<matplotlib.axes._subplots.AxesSubplot at 0x7f2b426b0190>"
            ]
          },
          "metadata": {},
          "execution_count": 126
        },
        {
          "output_type": "display_data",
          "data": {
            "text/plain": [
              "<Figure size 576x576 with 1 Axes>"
            ],
            "image/png": "[encoded data removed]"
          },
          "metadata": {}
        }
      ]
    },
    {
      "cell_type": "code",
      "source": [
        "plt.figure(figsize=(8,8))\n",
        "\n",
        "sns.countplot(y='Priority Country',data=df,hue=\"Simple Legal Status\")"
      ],
      "metadata": {
        "colab": {
          "base_uri": "https://localhost:8080/",
          "height": 519
        },
        "id": "Kr6j0XhHz8Ep",
        "outputId": "75e0857e-0418-4991-dd85-880b7ac12fbd"
      },
      "execution_count": 139,
      "outputs": [
        {
          "output_type": "execute_result",
          "data": {
            "text/plain": [
              "<matplotlib.axes._subplots.AxesSubplot at 0x7f2b42057290>"
            ]
          },
          "metadata": {},
          "execution_count": 139
        },
        {
          "output_type": "display_data",
          "data": {
            "text/plain": [
              "<Figure size 576x576 with 1 Axes>"
            ],
            "image/png": "[encoded data removed]"
          },
          "metadata": {}
        }
      ]
    },
    {
      "cell_type": "code",
      "source": [
        "sns.countplot(y='Priority',data=df)"
      ],
      "metadata": {
        "colab": {
          "base_uri": "https://localhost:8080/",
          "height": 519
        },
        "id": "APsSskiE4Ekf",
        "outputId": "18bdc68e-ffd6-489c-de1d-a9369f7018db"
      },
      "execution_count": 148,
      "outputs": [
        {
          "output_type": "execute_result",
          "data": {
            "text/plain": [
              "<matplotlib.axes._subplots.AxesSubplot at 0x7f2b42518a90>"
            ]
          },
          "metadata": {},
          "execution_count": 148
        },
        {
          "output_type": "display_data",
          "data": {
            "text/plain": [
              "<Figure size 576x576 with 1 Axes>"
            ],
            "image/png": "[encoded data removed]"
          },
          "metadata": {}
        }
      ]
    },
    {
      "cell_type": "code",
      "source": [
        ""
      ],
      "metadata": {
        "id": "dLNPacUL4-gU"
      },
      "execution_count": 153,
      "outputs": []
    },
    {
      "cell_type": "code",
      "source": [
        "df.head()"
      ],
      "metadata": {
        "colab": {
          "base_uri": "https://localhost:8080/",
          "height": 634
        },
        "id": "Lw0IW-ry6v5h",
        "outputId": "054b0dbf-59f6-4649-9f5c-7eab07e345cf"
      },
      "execution_count": 154,
      "outputs": [
        {
          "output_type": "execute_result",
          "data": {
            "text/plain": [
              "  Publication Number                   Country  Application Date  \\\n",
              "0       US11244681B1  United States Of America              2021   \n",
              "1    US20210375484A1  United States Of America              2021   \n",
              "2    US20210358269A1  United States Of America              2021   \n",
              "3       US11145152B2  United States Of America              2019   \n",
              "4    US20210110652A1  United States Of America              2020   \n",
              "\n",
              "  Publication Date Presumed Earliest Priority Date  \\\n",
              "0             2022                      2020-07-31   \n",
              "1             2021                      2020-05-28   \n",
              "2             2021                      2020-05-13   \n",
              "3             2021                      2018-03-09   \n",
              "4             2021                      2019-10-11   \n",
              "\n",
              "                                                 CPC  Simple Legal Status  \\\n",
              "0  G10L15/22 | G06K9/00624 | G06Q30/0635 | G06Q50...                    0   \n",
              "1                   G16H50/80 | H04W4/80 | H04W4/029                    0   \n",
              "2  G07F17/3283 | H04W4/80 | H04W4/21 | G07F17/322...                    0   \n",
              "3  G07D11/13 | G07F19/203 | G07F19/205 | G07D2211...                    0   \n",
              "4  G07F17/3248 | G07F17/3255 | G06Q20/18 | G07F17...                    0   \n",
              "\n",
              "     Grant Status  Litigation Case Count  Count of Cited by Patents  \\\n",
              "0  Granted Patent                      0                          0   \n",
              "1     Application                      0                          0   \n",
              "2     Application                      0                          0   \n",
              "3  Granted Patent                      0                          0   \n",
              "4     Application                      0                          0   \n",
              "\n",
              "   INPADOC Family ID          Priority Country  Priority    LS  \n",
              "0          476845302  United States Of America         1  None  \n",
              "1          478707345  United States Of America         1  None  \n",
              "2          478512778  United States Of America         1  None  \n",
              "3          467843438  United States Of America         1  None  \n",
              "4          475383296  United States Of America         1  None  "
            ],
            "text/html": [
              "\n",
              "  <div id=\"df-e804bcb6-16b1-46bb-b3b5-0d41346886d2\">\n",
              "    <div class=\"colab-df-container\">\n",
              "      <div>\n",
              "<style scoped>\n",
              "    .dataframe tbody tr th:only-of-type {\n",
              "        vertical-align: middle;\n",
              "    }\n",
              "\n",
              "    .dataframe tbody tr th {\n",
              "        vertical-align: top;\n",
              "    }\n",
              "\n",
              "    .dataframe thead th {\n",
              "        text-align: right;\n",
              "    }\n",
              "</style>\n",
              "<table border=\"1\" class=\"dataframe\">\n",
              "  <thead>\n",
              "    <tr style=\"text-align: right;\">\n",
              "      <th></th>\n",
              "      <th>Publication Number</th>\n",
              "      <th>Country</th>\n",
              "      <th>Application Date</th>\n",
              "      <th>Publication Date</th>\n",
              "      <th>Presumed Earliest Priority Date</th>\n",
              "      <th>CPC</th>\n",
              "      <th>Simple Legal Status</th>\n",
              "      <th>Grant Status</th>\n",
              "      <th>Litigation Case Count</th>\n",
              "      <th>Count of Cited by Patents</th>\n",
              "      <th>INPADOC Family ID</th>\n",
              "      <th>Priority Country</th>\n",
              "      <th>Priority</th>\n",
              "      <th>LS</th>\n",
              "    </tr>\n",
              "  </thead>\n",
              "  <tbody>\n",
              "    <tr>\n",
              "      <th>0</th>\n",
              "      <td>US11244681B1</td>\n",
              "      <td>United States Of America</td>\n",
              "      <td>2021</td>\n",
              "      <td>2022</td>\n",
              "      <td>2020-07-31</td>\n",
              "      <td>G10L15/22 | G06K9/00624 | G06Q30/0635 | G06Q50...</td>\n",
              "      <td>0</td>\n",
              "      <td>Granted Patent</td>\n",
              "      <td>0</td>\n",
              "      <td>0</td>\n",
              "      <td>476845302</td>\n",
              "      <td>United States Of America</td>\n",
              "      <td>1</td>\n",
              "      <td>None</td>\n",
              "    </tr>\n",
              "    <tr>\n",
              "      <th>1</th>\n",
              "      <td>US20210375484A1</td>\n",
              "      <td>United States Of America</td>\n",
              "      <td>2021</td>\n",
              "      <td>2021</td>\n",
              "      <td>2020-05-28</td>\n",
              "      <td>G16H50/80 | H04W4/80 | H04W4/029</td>\n",
              "      <td>0</td>\n",
              "      <td>Application</td>\n",
              "      <td>0</td>\n",
              "      <td>0</td>\n",
              "      <td>478707345</td>\n",
              "      <td>United States Of America</td>\n",
              "      <td>1</td>\n",
              "      <td>None</td>\n",
              "    </tr>\n",
              "    <tr>\n",
              "      <th>2</th>\n",
              "      <td>US20210358269A1</td>\n",
              "      <td>United States Of America</td>\n",
              "      <td>2021</td>\n",
              "      <td>2021</td>\n",
              "      <td>2020-05-13</td>\n",
              "      <td>G07F17/3283 | H04W4/80 | H04W4/21 | G07F17/322...</td>\n",
              "      <td>0</td>\n",
              "      <td>Application</td>\n",
              "      <td>0</td>\n",
              "      <td>0</td>\n",
              "      <td>478512778</td>\n",
              "      <td>United States Of America</td>\n",
              "      <td>1</td>\n",
              "      <td>None</td>\n",
              "    </tr>\n",
              "    <tr>\n",
              "      <th>3</th>\n",
              "      <td>US11145152B2</td>\n",
              "      <td>United States Of America</td>\n",
              "      <td>2019</td>\n",
              "      <td>2021</td>\n",
              "      <td>2018-03-09</td>\n",
              "      <td>G07D11/13 | G07F19/203 | G07F19/205 | G07D2211...</td>\n",
              "      <td>0</td>\n",
              "      <td>Granted Patent</td>\n",
              "      <td>0</td>\n",
              "      <td>0</td>\n",
              "      <td>467843438</td>\n",
              "      <td>United States Of America</td>\n",
              "      <td>1</td>\n",
              "      <td>None</td>\n",
              "    </tr>\n",
              "    <tr>\n",
              "      <th>4</th>\n",
              "      <td>US20210110652A1</td>\n",
              "      <td>United States Of America</td>\n",
              "      <td>2020</td>\n",
              "      <td>2021</td>\n",
              "      <td>2019-10-11</td>\n",
              "      <td>G07F17/3248 | G07F17/3255 | G06Q20/18 | G07F17...</td>\n",
              "      <td>0</td>\n",
              "      <td>Application</td>\n",
              "      <td>0</td>\n",
              "      <td>0</td>\n",
              "      <td>475383296</td>\n",
              "      <td>United States Of America</td>\n",
              "      <td>1</td>\n",
              "      <td>None</td>\n",
              "    </tr>\n",
              "  </tbody>\n",
              "</table>\n",
              "</div>\n",
              "      <button class=\"colab-df-convert\" onclick=\"convertToInteractive('df-e804bcb6-16b1-46bb-b3b5-0d41346886d2')\"\n",
              "              title=\"Convert this dataframe to an interactive table.\"\n",
              "              style=\"display:none;\">\n",
              "        \n",
              "  <svg xmlns=\"http://www.w3.org/2000/svg\" height=\"24px\"viewBox=\"0 0 24 24\"\n",
              "       width=\"24px\">\n",
              "    <path d=\"M0 0h24v24H0V0z\" fill=\"none\"/>\n",
              "    <path d=\"M18.56 5.44l.94 2.06.94-2.06 2.06-.94-2.06-.94-.94-2.06-.94 2.06-2.06.94zm-11 1L8.5 8.5l.94-2.06 2.06-.94-2.06-.94L8.5 2.5l-.94 2.06-2.06.94zm10 10l.94 2.06.94-2.06 2.06-.94-2.06-.94-.94-2.06-.94 2.06-2.06.94z\"/><path d=\"M17.41 7.96l-1.37-1.37c-.4-.4-.92-.59-1.43-.59-.52 0-1.04.2-1.43.59L10.3 9.45l-7.72 7.72c-.78.78-.78 2.05 0 2.83L4 21.41c.39.39.9.59 1.41.59.51 0 1.02-.2 1.41-.59l7.78-7.78 2.81-2.81c.8-.78.8-2.07 0-2.86zM5.41 20L4 18.59l7.72-7.72 1.47 1.35L5.41 20z\"/>\n",
              "  </svg>\n",
              "      </button>\n",
              "      \n",
              "  <style>\n",
              "    .colab-df-container {\n",
              "      display:flex;\n",
              "      flex-wrap:wrap;\n",
              "      gap: 12px;\n",
              "    }\n",
              "\n",
              "    .colab-df-convert {\n",
              "      background-color: #E8F0FE;\n",
              "      border: none;\n",
              "      border-radius: 50%;\n",
              "      cursor: pointer;\n",
              "      display: none;\n",
              "      fill: #1967D2;\n",
              "      height: 32px;\n",
              "      padding: 0 0 0 0;\n",
              "      width: 32px;\n",
              "    }\n",
              "\n",
              "    .colab-df-convert:hover {\n",
              "      background-color: #E2EBFA;\n",
              "      box-shadow: 0px 1px 2px rgba(60, 64, 67, 0.3), 0px 1px 3px 1px rgba(60, 64, 67, 0.15);\n",
              "      fill: #174EA6;\n",
              "    }\n",
              "\n",
              "    [theme=dark] .colab-df-convert {\n",
              "      background-color: #3B4455;\n",
              "      fill: #D2E3FC;\n",
              "    }\n",
              "\n",
              "    [theme=dark] .colab-df-convert:hover {\n",
              "      background-color: #434B5C;\n",
              "      box-shadow: 0px 1px 3px 1px rgba(0, 0, 0, 0.15);\n",
              "      filter: drop-shadow(0px 1px 2px rgba(0, 0, 0, 0.3));\n",
              "      fill: #FFFFFF;\n",
              "    }\n",
              "  </style>\n",
              "\n",
              "      <script>\n",
              "        const buttonEl =\n",
              "          document.querySelector('#df-e804bcb6-16b1-46bb-b3b5-0d41346886d2 button.colab-df-convert');\n",
              "        buttonEl.style.display =\n",
              "          google.colab.kernel.accessAllowed ? 'block' : 'none';\n",
              "\n",
              "        async function convertToInteractive(key) {\n",
              "          const element = document.querySelector('#df-e804bcb6-16b1-46bb-b3b5-0d41346886d2');\n",
              "          const dataTable =\n",
              "            await google.colab.kernel.invokeFunction('convertToInteractive',\n",
              "                                                     [key], {});\n",
              "          if (!dataTable) return;\n",
              "\n",
              "          const docLinkHtml = 'Like what you see? Visit the ' +\n",
              "            '<a target=\"_blank\" href=https://colab.research.google.com/notebooks/data_table.ipynb>data table notebook</a>'\n",
              "            + ' to learn more about interactive tables.';\n",
              "          element.innerHTML = '';\n",
              "          dataTable['output_type'] = 'display_data';\n",
              "          await google.colab.output.renderOutput(dataTable, element);\n",
              "          const docLink = document.createElement('div');\n",
              "          docLink.innerHTML = docLinkHtml;\n",
              "          element.appendChild(docLink);\n",
              "        }\n",
              "      </script>\n",
              "    </div>\n",
              "  </div>\n",
              "  "
            ]
          },
          "metadata": {},
          "execution_count": 154
        }
      ]
    },
    {
      "cell_type": "code",
      "source": [
        "df['Application Date'] = pd.to_datetime(df['Application Date'])"
      ],
      "metadata": {
        "id": "hp1f4y7p8BrL"
      },
      "execution_count": 155,
      "outputs": []
    },
    {
      "cell_type": "code",
      "source": [
        "df.dtypes"
      ],
      "metadata": {
        "colab": {
          "base_uri": "https://localhost:8080/"
        },
        "id": "w5fg-pUk8UXA",
        "outputId": "61fcd319-845c-481c-f477-2f54d8755c41"
      },
      "execution_count": 156,
      "outputs": [
        {
          "output_type": "execute_result",
          "data": {
            "text/plain": [
              "Publication Number                         object\n",
              "Country                                    object\n",
              "Application Date                   datetime64[ns]\n",
              "Publication Date                           object\n",
              "Presumed Earliest Priority Date            object\n",
              "CPC                                        object\n",
              "Simple Legal Status                         int64\n",
              "Grant Status                               object\n",
              "Litigation Case Count                       int64\n",
              "Count of Cited by Patents                   int64\n",
              "INPADOC Family ID                           int64\n",
              "Priority Country                           object\n",
              "Priority                                    int64\n",
              "LS                                         object\n",
              "dtype: object"
            ]
          },
          "metadata": {},
          "execution_count": 156
        }
      ]
    },
    {
      "cell_type": "code",
      "source": [
        ""
      ],
      "metadata": {
        "id": "UK3xWnYv8Wor"
      },
      "execution_count": 160,
      "outputs": []
    },
    {
      "cell_type": "code",
      "source": [
        ""
      ],
      "metadata": {
        "id": "H_pvQq348mrM"
      },
      "execution_count": null,
      "outputs": []
    }
  ]
}