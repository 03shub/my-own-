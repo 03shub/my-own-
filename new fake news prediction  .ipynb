{
 "cells": [
  {
   "cell_type": "code",
   "execution_count": 22,
   "id": "04fb43a1",
   "metadata": {},
   "outputs": [],
   "source": [
    "import pandas as pd\n",
    "import numpy as np\n",
    "import matplotlib.pyplot as plt \n",
    "import seaborn as sns  "
   ]
  },
  {
   "cell_type": "code",
   "execution_count": 79,
   "id": "feb6b737",
   "metadata": {},
   "outputs": [],
   "source": [
    "df=pd.read_csv('news.csv',encoding='cp1252')\n",
    "sd=pd.read_csv('news2.csv',encoding='cp1252')\n"
   ]
  },
  {
   "cell_type": "code",
   "execution_count": 91,
   "id": "8cdeb8e6",
   "metadata": {},
   "outputs": [
    {
     "data": {
      "text/html": [
       "<div><div id=dbaffc5e-e1ce-4f06-89d5-27ae88b0c1eb style=\"display:none; background-color:#9D6CFF; color:white; width:200px; height:30px; padding-left:5px; border-radius:4px; flex-direction:row; justify-content:space-around; align-items:center;\" onmouseover=\"this.style.backgroundColor='#BA9BF8'\" onmouseout=\"this.style.backgroundColor='#9D6CFF'\" onclick=\"window.commands?.execute('create-mitosheet-from-dataframe-output');\">See Full Dataframe in Mito</div> <script> if (window.commands.hasCommand('create-mitosheet-from-dataframe-output')) document.getElementById('dbaffc5e-e1ce-4f06-89d5-27ae88b0c1eb').style.display = 'flex' </script> <table border=\"1\" class=\"dataframe\">\n",
       "  <thead>\n",
       "    <tr style=\"text-align: right;\">\n",
       "      <th></th>\n",
       "      <th>STORY</th>\n",
       "      <th>SECTION</th>\n",
       "    </tr>\n",
       "  </thead>\n",
       "  <tbody>\n",
       "    <tr>\n",
       "      <th>0</th>\n",
       "      <td>But the most painful was the huge reversal in fee income, unheard of among private sector lenders. Essentially, it means that Yes Bank took it for granted that fees on structured loan deals will be paid and accounted for upfront on its books. As borrowers turned defaulters, the fees tied to these loan deals fell off the cracks. Gill has now vowed to shift to a safer accounting practice of amortizing fee income rather than booking these upfront.\\n\\n\\nGill’s move to mend past ways means that there will be no nasty surprises in the future. This is good news considering that investors love a clean image and loathe uncertainties.\\n\\n\\nBut there is no gain without pain and the promise of a strong and stable balance sheet comes with some sacrifices as well. Investors will have to give up the hopes of phenomenal growth, a promise made by Kapoor.</td>\n",
       "      <td>3</td>\n",
       "    </tr>\n",
       "    <tr>\n",
       "      <th>1</th>\n",
       "      <td>How formidable is the opposition alliance among Congress, Jharkhand Mukti Morcha (JMM) and Jharkhand Vikas Morcha (Prajatantrik)?</td>\n",
       "      <td>0</td>\n",
       "    </tr>\n",
       "    <tr>\n",
       "      <th>2</th>\n",
       "      <td>Most Asian currencies were trading lower today. South Korean won was down 0.4%, China renminbi 0.23%, China Offshore 0.15%, Malaysian ringgit 0.12%, Indonesian rupiah 0.11%, Taiwan dollar 0.06%. However, Japanese yen was up 0.32%.\\n\\n\\nThe dollar index, which measures the US currency’s strength against major currencies, was trading at 97.26, down 0.14% from its previous close of 97.395.</td>\n",
       "      <td>3</td>\n",
       "    </tr>\n",
       "    <tr>\n",
       "      <th>3</th>\n",
       "      <td>If you want to answer any question, click on ‘Answer’. After clicking on Answer you can also check out replies of other users. Proceed to Answer either through writing or voice command.\\n\\n\\nIf you want to ask any question, click on “Ask A Question\". Few question prefixes are already inserted to help you with your questions. After submitting your question, the app will send the questions to your neighbours and will let you know how many neighbours\\n\\n\\nhave been asked the question. Click Done. You can click on the bell icon on the homepage of the app to follow answers to your questions.</td>\n",
       "      <td>1</td>\n",
       "    </tr>\n",
       "    <tr>\n",
       "      <th>4</th>\n",
       "      <td>In global markets, gold prices edged up today as disappointing Chinese factory activity data brought back concerns about the health of the global economy, denting risk appetite. Spot gold rose 0.4% to $1,285 per ounce. European equity markets nudged down today, following weaker Asian stock markets.</td>\n",
       "      <td>3</td>\n",
       "    </tr>\n",
       "    <tr>\n",
       "      <th>...</th>\n",
       "      <td>...</td>\n",
       "      <td>...</td>\n",
       "    </tr>\n",
       "    <tr>\n",
       "      <th>7623</th>\n",
       "      <td>Karnataka has been a Congress bastion, but it also gave BJP its first government in a southern state in 2007\\n\\n\\nSince forming the government in Karnataka, the Congress-Janata Dal (Secular) coalition has struggled to stay together against rival Bharatiya Janata Party (BJP). Mint analyses how their differences could impact the fate of the coalition in the state and improve the prospects of BJP.</td>\n",
       "      <td>0</td>\n",
       "    </tr>\n",
       "    <tr>\n",
       "      <th>7624</th>\n",
       "      <td>The film, which also features Janhvi Kapoor, will revolve around a singing ghost who puts grooms to sleep so it can possess their brides</td>\n",
       "      <td>2</td>\n",
       "    </tr>\n",
       "    <tr>\n",
       "      <th>7625</th>\n",
       "      <td>The database has been created after bringing together criminal records of the state police, the prisons department and the GRP that guards the railway network in the state.\\n\\n\\nA senior official involved in developing the app said the database will help policeman on ground by deploying techniques like face recognition, text search, biometric records analysis, phonetic search, artificial intelligence (AI) and gang analysis to “zero in on the criminal\" in a quick and targeted manner.</td>\n",
       "      <td>1</td>\n",
       "    </tr>\n",
       "    <tr>\n",
       "      <th>7626</th>\n",
       "      <td>The state, which has had an uneasy relationship with the mainland since the days of the late pro-independence leader Angami Zapu Phizo, is wary of National Democratic Alliance (NDA) promises because of the Naga Peace Accord, 2015, held up by slow progress of talks and the controversial Citizenship (Amendment) Bill, 2016. These, along with the aversion of the people of the Christian-majority state toward the BJP’s agenda to promote Hindutva and the uniform civil code, are the major issues in Nagaland.\\n\\n\\nThe direct contest in Nagaland, where money power has fuelled political corruption, is between the ‘hand’ and the ‘globe’, the election symbols of the Congress and the NDPP, respectively. Many believe the BJP-NDPP alliance has an edge because the state tends to send the ruling party candidate to the Lok Sabha. “If you don’t have support in Delhi, any state project will run into roadblocks,\" said Kathi Chishi, secretary of Toka MPCS, an organization that provides financing for rural livelihood.\\n\\n\\nThe NDPP’s candidate is Tokheho Yepthomi, the current member of parliament, who won the seat last year after Neiphiu Rio vacated it to contest the assembly elections. The Congress candidate is K.L. Chishi, former chief minister and a veteran Naga politician. Conrad Sangma’s National People’s Party has fielded a candidate, while the Naga People’s Front is backing its arch rival, the Congress, because it is against the BJP’s majoritarian Hindutva agenda and believes Congress is the party with a secular plank. An independent, M.M. Thromwa Konyak, is also in the fray. The BJP released its manifesto on Monday, restating its commitment to passing the citizenship amendment bill, which had sparked violence in the North-East. However, Yepthomi said on Friday, that after “the government is formed, the NDA partners will meet and then discuss. And what will be best for all stakeholders will be decided on that basis.\"</td>\n",
       "      <td>0</td>\n",
       "    </tr>\n",
       "    <tr>\n",
       "      <th>7627</th>\n",
       "      <td>Virus stars Kunchacko Boban, Tovino Thomas, Indrajith Sukumaran, Asif Ali, Soubin Shahir, Poornima Indrajith, Sreenath Bhasi, Rima Kallingal, Remya Nambeesan, Joju George, Dileesh Pothan, Senthil Krishna, Rahman, Revathy, Asha Kelunni, Parvathy Thiruvothu, Indrans and Madonna Sebastian</td>\n",
       "      <td>2</td>\n",
       "    </tr>\n",
       "  </tbody>\n",
       "</table></div>"
      ],
      "text/plain": [
       "                                                  STORY  SECTION\n",
       "0     But the most painful was the huge reversal in ...        3\n",
       "1     How formidable is the opposition alliance amon...        0\n",
       "2     Most Asian currencies were trading lower today...        3\n",
       "3     If you want to answer any question, click on ‘...        1\n",
       "4     In global markets, gold prices edged up today ...        3\n",
       "...                                                 ...      ...\n",
       "7623  Karnataka has been a Congress bastion, but it ...        0\n",
       "7624  The film, which also features Janhvi Kapoor, w...        2\n",
       "7625  The database has been created after bringing t...        1\n",
       "7626  The state, which has had an uneasy relationshi...        0\n",
       "7627  Virus stars Kunchacko Boban, Tovino Thomas, In...        2\n",
       "\n",
       "[7628 rows x 2 columns]"
      ]
     },
     "execution_count": 91,
     "metadata": {},
     "output_type": "execute_result"
    }
   ],
   "source": [
    "df"
   ]
  },
  {
   "cell_type": "code",
   "execution_count": 92,
   "id": "81787f91",
   "metadata": {},
   "outputs": [],
   "source": [
    "X = df['STORY']\n",
    "y = df['SECTION']"
   ]
  },
  {
   "cell_type": "code",
   "execution_count": 93,
   "id": "4468a272",
   "metadata": {},
   "outputs": [],
   "source": [
    "from sklearn.feature_extraction.text import CountVectorizer\n",
    "cv = CountVectorizer()"
   ]
  },
  {
   "cell_type": "code",
   "execution_count": 94,
   "id": "9c7593f8",
   "metadata": {},
   "outputs": [],
   "source": [
    "X = cv.fit_transform(X)\n"
   ]
  },
  {
   "cell_type": "code",
   "execution_count": 95,
   "id": "b39c32e8",
   "metadata": {},
   "outputs": [],
   "source": [
    "from sklearn.model_selection import train_test_split\n"
   ]
  },
  {
   "cell_type": "code",
   "execution_count": 96,
   "id": "7022b842",
   "metadata": {},
   "outputs": [],
   "source": [
    "X_train, X_test, y_train, y_test = train_test_split(X, y,test_size=0.3,random_state=101)\n"
   ]
  },
  {
   "cell_type": "code",
   "execution_count": 97,
   "id": "7c8ae1d9",
   "metadata": {},
   "outputs": [],
   "source": [
    "from sklearn.naive_bayes import MultinomialNB\n",
    "nb = MultinomialNB()"
   ]
  },
  {
   "cell_type": "code",
   "execution_count": 98,
   "id": "41e23e25",
   "metadata": {},
   "outputs": [
    {
     "data": {
      "text/plain": [
       "MultinomialNB()"
      ]
     },
     "execution_count": 98,
     "metadata": {},
     "output_type": "execute_result"
    }
   ],
   "source": [
    "nb.fit(X_train,y_train)\n"
   ]
  },
  {
   "cell_type": "code",
   "execution_count": 99,
   "id": "12317b63",
   "metadata": {},
   "outputs": [],
   "source": [
    "predictions = nb.predict(X_test)\n"
   ]
  },
  {
   "cell_type": "code",
   "execution_count": 100,
   "id": "7231769d",
   "metadata": {},
   "outputs": [],
   "source": [
    "from sklearn.metrics import confusion_matrix,classification_report\n"
   ]
  },
  {
   "cell_type": "code",
   "execution_count": 101,
   "id": "cd63d415",
   "metadata": {},
   "outputs": [
    {
     "name": "stdout",
     "output_type": "stream",
     "text": [
      "[[483   8   2   5]\n",
      " [ 10 815   3   5]\n",
      " [ 22  18 526   1]\n",
      " [  1   2   0 388]]\n",
      "\n",
      "\n",
      "              precision    recall  f1-score   support\n",
      "\n",
      "           0       0.94      0.97      0.95       498\n",
      "           1       0.97      0.98      0.97       833\n",
      "           2       0.99      0.93      0.96       567\n",
      "           3       0.97      0.99      0.98       391\n",
      "\n",
      "    accuracy                           0.97      2289\n",
      "   macro avg       0.97      0.97      0.97      2289\n",
      "weighted avg       0.97      0.97      0.97      2289\n",
      "\n"
     ]
    }
   ],
   "source": [
    "print(confusion_matrix(y_test,predictions))\n",
    "print('\\n')\n",
    "print(classification_report(y_test,predictions))"
   ]
  },
  {
   "cell_type": "code",
   "execution_count": 106,
   "id": "692e7ea8",
   "metadata": {},
   "outputs": [
    {
     "name": "stdout",
     "output_type": "stream",
     "text": [
      "[1 2 1 ... 1 0 1]\n"
     ]
    }
   ],
   "source": [
    "X2 = sd['STORY']\n",
    "X2 = cv.transform(X2)\n",
    "predict=nb.predict(X2)\n",
    "print(predict)\n",
    "\n"
   ]
  },
  {
   "cell_type": "code",
   "execution_count": 107,
   "id": "f8642d5d",
   "metadata": {},
   "outputs": [],
   "source": [
    "y_test_pred = pd.DataFrame(predict,columns=[   'SECTION'   ])\n"
   ]
  },
  {
   "cell_type": "code",
   "execution_count": 108,
   "id": "f272fd78",
   "metadata": {},
   "outputs": [],
   "source": [
    "y_test_pred.to_csv('submission.csv', index=False)\n"
   ]
  },
  {
   "cell_type": "code",
   "execution_count": null,
   "id": "f4afa5de",
   "metadata": {},
   "outputs": [],
   "source": []
  }
 ],
 "metadata": {
  "kernelspec": {
   "display_name": "Python 3 (ipykernel)",
   "language": "python",
   "name": "python3"
  },
  "language_info": {
   "codemirror_mode": {
    "name": "ipython",
    "version": 3
   },
   "file_extension": ".py",
   "mimetype": "text/x-python",
   "name": "python",
   "nbconvert_exporter": "python",
   "pygments_lexer": "ipython3",
   "version": "3.9.7"
  }
 },
 "nbformat": 4,
 "nbformat_minor": 5
}
